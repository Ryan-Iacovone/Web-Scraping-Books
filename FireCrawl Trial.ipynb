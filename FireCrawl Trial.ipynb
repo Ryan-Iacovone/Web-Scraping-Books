{
 "cells": [
  {
   "cell_type": "code",
   "execution_count": null,
   "metadata": {},
   "outputs": [],
   "source": [
    "# pip install firecrawl-py\n",
    "from firecrawl.firecrawl import FirecrawlApp\n",
    "import os\n",
    "import dotenv\n",
    "\n",
    "dotenv.load_dotenv()\n",
    "firecrawlkey = os.getenv('FIRECRAWLKEY')\n",
    "\n",
    "app = FirecrawlApp(api_key=firecrawlkey)\n",
    "  \n",
    "# Scrape a website:\n",
    "scrape_result = app.scrape_url('https://grpl.org/')\n",
    "print(scrape_result['json'])"
   ]
  },
  {
   "cell_type": "code",
   "execution_count": null,
   "metadata": {},
   "outputs": [],
   "source": [
    "# pip install firecrawl-py\n",
    "from firecrawl.firecrawl import FirecrawlApp\n",
    "\n",
    "dotenv.load_dotenv()\n",
    "firecrawlkey = os.getenv('FIRECRAWLKEY')\n",
    "\n",
    "app = FirecrawlApp(api_key=firecrawlkey)\n",
    "\n",
    "# Crawl a website:\n",
    "crawl_result = app.crawl_url('mendable.ai', {'crawlerOptions': {'excludes': ['blog/*']}}, True, 2, idempotency_key)\n",
    "print(crawl_result)\n",
    "      "
   ]
  },
  {
   "cell_type": "code",
   "execution_count": 1,
   "metadata": {},
   "outputs": [],
   "source": [
    "import requests\n",
    "from bs4 import BeautifulSoup\n",
    "\n",
    "url = 'https://grpl.org/'\n",
    "\n",
    "html = requests.get(url)\n",
    "\n",
    "soup = BeautifulSoup(html.content, 'html.parser')"
   ]
  },
  {
   "cell_type": "code",
   "execution_count": null,
   "metadata": {},
   "outputs": [],
   "source": [
    "print(soup)"
   ]
  }
 ],
 "metadata": {
  "kernelspec": {
   "display_name": "Python 3",
   "language": "python",
   "name": "python3"
  },
  "language_info": {
   "codemirror_mode": {
    "name": "ipython",
    "version": 3
   },
   "file_extension": ".py",
   "mimetype": "text/x-python",
   "name": "python",
   "nbconvert_exporter": "python",
   "pygments_lexer": "ipython3",
   "version": "3.10.11"
  }
 },
 "nbformat": 4,
 "nbformat_minor": 2
}
