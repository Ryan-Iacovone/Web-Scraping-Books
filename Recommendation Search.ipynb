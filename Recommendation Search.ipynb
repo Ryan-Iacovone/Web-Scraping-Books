{
 "cells": [
  {
   "cell_type": "code",
   "execution_count": 1,
   "metadata": {},
   "outputs": [],
   "source": [
    "import pandas as pd\n",
    "import re\n",
    "\n",
    "books = pd.read_excel(r\"Saved Data Files\\Complete_Monster_List.xlsx\")"
   ]
  },
  {
   "cell_type": "code",
   "execution_count": 13,
   "metadata": {},
   "outputs": [],
   "source": [
    "books[books['Author'].str.contains(\"Rebecca\", case=False, na=False)] # na is used to ignore missing values\n",
    "\n",
    "\n",
    "filtered_books = books[books['Author'].str.contains(\"Rebecca\", case=False, na=False)]\n",
    "selected_columns = filtered_books[['Title', 'Author', 'Item Type', 'Rating']] # selecting only specific columns to be displayed in the output df"
   ]
  },
  {
   "cell_type": "code",
   "execution_count": null,
   "metadata": {},
   "outputs": [],
   "source": [
    "for column in ['Title', 'Author', 'Item Type', 'Rating']:\n",
    "    # Check if any keyword matches the value in the current column using str.contains()\n",
    "    for keyword in keywords:\n",
    "        if books[books[column].str.contains(\"Rebecca\", case=False, na=False)]:\n",
    "            # If a match is found, add 1 to the ranking score\n",
    "            ranking_score += 1\n",
    "\n",
    "ranking_scores.append(ranking_score)"
   ]
  },
  {
   "cell_type": "code",
   "execution_count": null,
   "metadata": {},
   "outputs": [],
   "source": [
    "for index, row in books.iterrows():\n",
    "    print(row['Title'], row['Author'], row['Subject'])"
   ]
  },
  {
   "cell_type": "code",
   "execution_count": 20,
   "metadata": {},
   "outputs": [],
   "source": [
    "def keyword_search(dataframe, keywords):\n",
    "    # Initialize an empty list to store the ranking scores\n",
    "    ranking_scores = []\n",
    "\n",
    "    # Iterate through each index and row in the DataFrame\n",
    "    for index, row in enumerate(dataframe):\n",
    "        # Initialize ranking score for the current row\n",
    "        ranking_score = 0\n",
    "        \n",
    "        # Iterate through each column of interest\n",
    "        for column in ['Title', 'Author', 'Item Type', 'Rating']:\n",
    "            # Check if any keyword matches the value in the current column using str.contains()\n",
    "            for keyword in keywords:\n",
    "                if row[column].str.contains(keyword, case=False, na=False).any():\n",
    "                    # If a match is found, increment the ranking score\n",
    "                    ranking_score += 1\n",
    "        \n",
    "        # Append the ranking score for the current row to the list\n",
    "        ranking_scores.append(ranking_score)\n",
    "    \n",
    "    # Add ranking_scores list as a new column to the DataFrame\n",
    "    dataframe['Ranking Score'] = ranking_scores\n",
    "    \n",
    "    # Sort the DataFrame based on the ranking score in descending order\n",
    "    sorted_df = dataframe.sort_values(by='Ranking Score', ascending=False)\n",
    "    \n",
    "    # Reset index for better presentation\n",
    "    sorted_df.reset_index(drop=True, inplace=True)\n",
    "    \n",
    "    # Drop the ranking score column before returning the DataFrame\n",
    "    sorted_df.drop(columns=['Ranking Score'], inplace=True)\n",
    "    \n",
    "    return sorted_df"
   ]
  },
  {
   "cell_type": "code",
   "execution_count": 21,
   "metadata": {},
   "outputs": [
    {
     "ename": "TypeError",
     "evalue": "string indices must be integers",
     "output_type": "error",
     "traceback": [
      "\u001b[1;31m---------------------------------------------------------------------------\u001b[0m",
      "\u001b[1;31mTypeError\u001b[0m                                 Traceback (most recent call last)",
      "Cell \u001b[1;32mIn[21], line 7\u001b[0m\n\u001b[0;32m      4\u001b[0m keywords \u001b[38;5;241m=\u001b[39m [\u001b[38;5;124m'\u001b[39m\u001b[38;5;124mfantasy\u001b[39m\u001b[38;5;124m'\u001b[39m, \u001b[38;5;124m'\u001b[39m\u001b[38;5;124madventure\u001b[39m\u001b[38;5;124m'\u001b[39m]\n\u001b[0;32m      6\u001b[0m \u001b[38;5;66;03m# Perform keyword search\u001b[39;00m\n\u001b[1;32m----> 7\u001b[0m search_result \u001b[38;5;241m=\u001b[39m \u001b[43mkeyword_search\u001b[49m\u001b[43m(\u001b[49m\u001b[43mbooks\u001b[49m\u001b[43m,\u001b[49m\u001b[43m \u001b[49m\u001b[43mkeywords\u001b[49m\u001b[43m)\u001b[49m\n\u001b[0;32m      9\u001b[0m \u001b[38;5;66;03m# Display the search result\u001b[39;00m\n\u001b[0;32m     10\u001b[0m \u001b[38;5;28mprint\u001b[39m(search_result)\n",
      "Cell \u001b[1;32mIn[20], line 14\u001b[0m, in \u001b[0;36mkeyword_search\u001b[1;34m(dataframe, keywords)\u001b[0m\n\u001b[0;32m     11\u001b[0m \u001b[38;5;28;01mfor\u001b[39;00m column \u001b[38;5;129;01min\u001b[39;00m [\u001b[38;5;124m'\u001b[39m\u001b[38;5;124mTitle\u001b[39m\u001b[38;5;124m'\u001b[39m, \u001b[38;5;124m'\u001b[39m\u001b[38;5;124mAuthor\u001b[39m\u001b[38;5;124m'\u001b[39m, \u001b[38;5;124m'\u001b[39m\u001b[38;5;124mItem Type\u001b[39m\u001b[38;5;124m'\u001b[39m, \u001b[38;5;124m'\u001b[39m\u001b[38;5;124mRating\u001b[39m\u001b[38;5;124m'\u001b[39m]:\n\u001b[0;32m     12\u001b[0m     \u001b[38;5;66;03m# Check if any keyword matches the value in the current column using str.contains()\u001b[39;00m\n\u001b[0;32m     13\u001b[0m     \u001b[38;5;28;01mfor\u001b[39;00m keyword \u001b[38;5;129;01min\u001b[39;00m keywords:\n\u001b[1;32m---> 14\u001b[0m         \u001b[38;5;28;01mif\u001b[39;00m \u001b[43mrow\u001b[49m\u001b[43m[\u001b[49m\u001b[43mcolumn\u001b[49m\u001b[43m]\u001b[49m\u001b[38;5;241m.\u001b[39mstr\u001b[38;5;241m.\u001b[39mcontains(keyword, case\u001b[38;5;241m=\u001b[39m\u001b[38;5;28;01mFalse\u001b[39;00m, na\u001b[38;5;241m=\u001b[39m\u001b[38;5;28;01mFalse\u001b[39;00m)\u001b[38;5;241m.\u001b[39many():\n\u001b[0;32m     15\u001b[0m             \u001b[38;5;66;03m# If a match is found, increment the ranking score\u001b[39;00m\n\u001b[0;32m     16\u001b[0m             ranking_score \u001b[38;5;241m+\u001b[39m\u001b[38;5;241m=\u001b[39m \u001b[38;5;241m1\u001b[39m\n\u001b[0;32m     18\u001b[0m \u001b[38;5;66;03m# Append the ranking score for the current row to the list\u001b[39;00m\n",
      "\u001b[1;31mTypeError\u001b[0m: string indices must be integers"
     ]
    }
   ],
   "source": [
    "# Assuming you have a DataFrame called 'books'\n",
    "\n",
    "# List of keywords to search for\n",
    "keywords = ['fantasy', 'adventure']\n",
    "\n",
    "# Perform keyword search\n",
    "search_result = keyword_search(books, keywords)\n",
    "\n",
    "# Display the search result\n",
    "print(search_result)"
   ]
  }
 ],
 "metadata": {
  "kernelspec": {
   "display_name": "Python 3",
   "language": "python",
   "name": "python3"
  },
  "language_info": {
   "codemirror_mode": {
    "name": "ipython",
    "version": 3
   },
   "file_extension": ".py",
   "mimetype": "text/x-python",
   "name": "python",
   "nbconvert_exporter": "python",
   "pygments_lexer": "ipython3",
   "version": "3.10.11"
  }
 },
 "nbformat": 4,
 "nbformat_minor": 2
}
